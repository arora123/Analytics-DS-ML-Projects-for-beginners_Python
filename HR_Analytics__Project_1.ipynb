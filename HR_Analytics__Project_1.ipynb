{
  "nbformat": 4,
  "nbformat_minor": 0,
  "metadata": {
    "colab": {
      "name": "HR Analytics_ Project 1.ipynb",
      "provenance": [],
      "collapsed_sections": [
        "Z6xvLacB6wbP",
        "MmwDjub37dSK",
        "NsHzPMjV83Lv",
        "7pAXGPupB4In",
        "kvBBHyzNCB_z",
        "PlnHuGrDOBkH",
        "Md3YzVRoPZhP",
        "GdZDR51XOW2X",
        "69_PcCsDQfEj",
        "C7TCjF3iQ6uV",
        "jLkRN0XtRUY_",
        "ZqDkUIWBRosX",
        "RYGLE-fKSkg_",
        "TB3myuniSsID",
        "M8NXEckoTVEJ",
        "PU1spygGZwtu",
        "CvgAKLCso0ds",
        "GF7YAbjWqUjb"
      ],
      "authorship_tag": "ABX9TyOZCCE7tHdoLbLCeSpAETRv",
      "include_colab_link": true
    },
    "kernelspec": {
      "name": "python3",
      "display_name": "Python 3"
    },
    "language_info": {
      "name": "python"
    }
  },
  "cells": [
    {
      "cell_type": "markdown",
      "metadata": {
        "id": "view-in-github",
        "colab_type": "text"
      },
      "source": [
        "<a href=\"https://colab.research.google.com/github/arora123/Analytics-DS-ML-Projects-for-beginners_Python/blob/main/HR_Analytics__Project_1.ipynb\" target=\"_parent\"><img src=\"https://colab.research.google.com/assets/colab-badge.svg\" alt=\"Open In Colab\"/></a>"
      ]
    },
    {
      "cell_type": "markdown",
      "metadata": {
        "id": "-X5RArELulSC"
      },
      "source": [
        "# Project Information\n",
        "\n",
        "It is a very basic analytics project for beginners to understand how to explore data to get some insights using python\n",
        "\n",
        "- Library used - Pandas\n",
        "\n",
        "- Data - https://raw.githubusercontent.com/arora123/Data/master/emp-data.csv\n",
        "\n",
        "- Data Description - Name, Gender, Department, Salary, Location & Ratings of 1015 employees [All column names are self explainatory]\n",
        "\n",
        "- Objectives - \n",
        "1. How many Males/Females are there in the entire organization? \n",
        "2. How many Males/Females are there in the each department or for each location? \n",
        "3. For which department is the average Pay highest?\n",
        "4. For which location is the average Pay highest?\n",
        "5. What percentage of employees received good & very good rating? What about poor & very poor rating? and average rating?\n",
        "6. Compute gender pay gap for each department. Interpret\n",
        "7. Compute gender pay gap for each location. Interpret\n",
        "\n"
      ]
    },
    {
      "cell_type": "markdown",
      "metadata": {
        "id": "w2Ieg2usvu4Q"
      },
      "source": [
        "# Loading Data"
      ]
    },
    {
      "cell_type": "code",
      "metadata": {
        "id": "DztVBG-ifKW4",
        "colab": {
          "base_uri": "https://localhost:8080/",
          "height": 194
        },
        "outputId": "83e8378b-2f7b-439a-ae5a-9c0b427487c2"
      },
      "source": [
        "import pandas as pd\n",
        "\n",
        "# emp = pd.read_csv(\"D:\\Learning\\Learn Excel\\HR Analytics\\emp-data.csv\")\n",
        "emp = pd.read_csv(\"https://raw.githubusercontent.com/arora123/Data/master/emp-data.csv\")\n",
        "\n",
        "\n",
        "emp.head()"
      ],
      "execution_count": 50,
      "outputs": [
        {
          "output_type": "execute_result",
          "data": {
            "text/html": [
              "<div>\n",
              "<style scoped>\n",
              "    .dataframe tbody tr th:only-of-type {\n",
              "        vertical-align: middle;\n",
              "    }\n",
              "\n",
              "    .dataframe tbody tr th {\n",
              "        vertical-align: top;\n",
              "    }\n",
              "\n",
              "    .dataframe thead th {\n",
              "        text-align: right;\n",
              "    }\n",
              "</style>\n",
              "<table border=\"1\" class=\"dataframe\">\n",
              "  <thead>\n",
              "    <tr style=\"text-align: right;\">\n",
              "      <th></th>\n",
              "      <th>Name</th>\n",
              "      <th>Gender</th>\n",
              "      <th>Department</th>\n",
              "      <th>Salary</th>\n",
              "      <th>Loc</th>\n",
              "      <th>Rating</th>\n",
              "    </tr>\n",
              "  </thead>\n",
              "  <tbody>\n",
              "    <tr>\n",
              "      <th>0</th>\n",
              "      <td>Ches Bonnell</td>\n",
              "      <td>Male</td>\n",
              "      <td>Sales</td>\n",
              "      <td>$88,050</td>\n",
              "      <td>Bellevue</td>\n",
              "      <td>Very Good</td>\n",
              "    </tr>\n",
              "    <tr>\n",
              "      <th>1</th>\n",
              "      <td>Garwin Peasegood</td>\n",
              "      <td>Female</td>\n",
              "      <td>Engineering</td>\n",
              "      <td>$68,220</td>\n",
              "      <td>Bellevue</td>\n",
              "      <td>Good</td>\n",
              "    </tr>\n",
              "    <tr>\n",
              "      <th>2</th>\n",
              "      <td>Sidoney Yitzhok</td>\n",
              "      <td>Female</td>\n",
              "      <td>NaN</td>\n",
              "      <td>$118,440</td>\n",
              "      <td>Wellington</td>\n",
              "      <td>Not Rated</td>\n",
              "    </tr>\n",
              "    <tr>\n",
              "      <th>3</th>\n",
              "      <td>Saunders Blumson</td>\n",
              "      <td>NaN</td>\n",
              "      <td>Legal</td>\n",
              "      <td>$56,370</td>\n",
              "      <td>Los Angeles</td>\n",
              "      <td>Very Good</td>\n",
              "    </tr>\n",
              "    <tr>\n",
              "      <th>4</th>\n",
              "      <td>Gardy Grigorey</td>\n",
              "      <td>Female</td>\n",
              "      <td>Support</td>\n",
              "      <td>$107,090</td>\n",
              "      <td>Los Angeles</td>\n",
              "      <td>Poor</td>\n",
              "    </tr>\n",
              "  </tbody>\n",
              "</table>\n",
              "</div>"
            ],
            "text/plain": [
              "               Name  Gender   Department     Salary          Loc     Rating\n",
              "0      Ches Bonnell    Male        Sales   $88,050      Bellevue  Very Good\n",
              "1  Garwin Peasegood  Female  Engineering   $68,220      Bellevue       Good\n",
              "2   Sidoney Yitzhok  Female          NaN  $118,440    Wellington  Not Rated\n",
              "3  Saunders Blumson     NaN        Legal   $56,370   Los Angeles  Very Good\n",
              "4    Gardy Grigorey  Female      Support  $107,090   Los Angeles       Poor"
            ]
          },
          "metadata": {
            "tags": []
          },
          "execution_count": 50
        }
      ]
    },
    {
      "cell_type": "markdown",
      "metadata": {
        "id": "rkuPaPw7u6x4"
      },
      "source": [
        "Did you notice, values in Salary column are containing '$' and ',' ?\n",
        "\n",
        "These values might be stored as string data type.\n",
        "\n",
        "Let's check:"
      ]
    },
    {
      "cell_type": "markdown",
      "metadata": {
        "id": "ehMxM0GzvzaO"
      },
      "source": [
        "# Exploring Data"
      ]
    },
    {
      "cell_type": "code",
      "metadata": {
        "colab": {
          "base_uri": "https://localhost:8080/"
        },
        "id": "Y1V4Kyr_s-mc",
        "outputId": "4c8dfe0f-6361-4749-ed39-7d41e065b600"
      },
      "source": [
        "emp.info()"
      ],
      "execution_count": 51,
      "outputs": [
        {
          "output_type": "stream",
          "text": [
            "<class 'pandas.core.frame.DataFrame'>\n",
            "RangeIndex: 1015 entries, 0 to 1014\n",
            "Data columns (total 6 columns):\n",
            " #   Column      Non-Null Count  Dtype \n",
            "---  ------      --------------  ----- \n",
            " 0   Name        1015 non-null   object\n",
            " 1   Gender      972 non-null    object\n",
            " 2   Department  987 non-null    object\n",
            " 3   Salary      972 non-null    object\n",
            " 4   Loc         1015 non-null   object\n",
            " 5   Rating      1015 non-null   object\n",
            "dtypes: object(6)\n",
            "memory usage: 47.7+ KB\n"
          ],
          "name": "stdout"
        }
      ]
    },
    {
      "cell_type": "markdown",
      "metadata": {
        "id": "ItXf8Tinv304"
      },
      "source": [
        "**Observations:**\n",
        "\n",
        "1. All columns including 'Salary' are of 'object' data type, while statistically 'Salary' should be of numeric (float to be specific) data type\n",
        "2. There are null values in Department, Gender & Salary columns\n",
        "\n",
        "We will handle these issues one by one.\n",
        "\n",
        "## let's check data type for all values in 'Salary' column"
      ]
    },
    {
      "cell_type": "code",
      "metadata": {
        "colab": {
          "base_uri": "https://localhost:8080/"
        },
        "id": "fFMkXeswvfdW",
        "outputId": "2634d128-7707-4425-8576-e758e70dd60c"
      },
      "source": [
        "# emp['Salary'].apply(type)\n",
        "emp['Salary'].apply(type).value_counts()"
      ],
      "execution_count": 52,
      "outputs": [
        {
          "output_type": "execute_result",
          "data": {
            "text/plain": [
              "<class 'str'>      972\n",
              "<class 'float'>     43\n",
              "Name: Salary, dtype: int64"
            ]
          },
          "metadata": {
            "tags": []
          },
          "execution_count": 52
        }
      ]
    },
    {
      "cell_type": "markdown",
      "metadata": {
        "id": "NEA0c_yOwVSQ"
      },
      "source": [
        "'Salary' column contains a mix of string & float values\n",
        "\n",
        "To convert 'Salary' column to float data type, we need to first remove dollar sign & comma and then convert it to float (typecasting)\n",
        "\n",
        "## Let's remove dollar sign & comma from 'Salary' column\n",
        "There are multiple approaches to do the same. \n",
        "\n",
        "https://pbpython.com/currency-cleanup.html"
      ]
    },
    {
      "cell_type": "code",
      "metadata": {
        "colab": {
          "base_uri": "https://localhost:8080/"
        },
        "id": "VMqE6ArRy7rb",
        "outputId": "6f635607-a8e4-47ac-fc58-a76a6bf9804f"
      },
      "source": [
        "# Using str.replace method to remove dollar sign & comma\n",
        "emp['Salary'] = emp['Salary'].str.replace(',', '')\n",
        "emp['Salary'] = emp['Salary'].str.replace('$', '')\n",
        "print('After removing unwanted strings from Salary column: ', '\\n', emp['Salary'].head(), '\\n')\n",
        "\n",
        "emp['Salary'] = emp['Salary'].astype(float)\n",
        "print('Converting to float data type Salary column: ', '\\n', emp['Salary'].head())\n",
        "\n",
        "# we can also perform these operations in one line of code\n",
        "# emp['Salary'] = emp['Salary'].str.replace(',', '').str.replace('$', '').astype(float)"
      ],
      "execution_count": 53,
      "outputs": [
        {
          "output_type": "stream",
          "text": [
            "After removing unwanted strings from Salary column:  \n",
            " 0     88050 \n",
            "1     68220 \n",
            "2    118440 \n",
            "3     56370 \n",
            "4    107090 \n",
            "Name: Salary, dtype: object \n",
            "\n",
            "Converting to float data type Salary column:  \n",
            " 0     88050.0\n",
            "1     68220.0\n",
            "2    118440.0\n",
            "3     56370.0\n",
            "4    107090.0\n",
            "Name: Salary, dtype: float64\n"
          ],
          "name": "stdout"
        }
      ]
    },
    {
      "cell_type": "markdown",
      "metadata": {
        "id": "IwjRSS5Gzwq2"
      },
      "source": [
        "## Other approaches"
      ]
    },
    {
      "cell_type": "code",
      "metadata": {
        "id": "DG7xTnKAy9hh"
      },
      "source": [
        "# Using a function which checks data type of each value in a column in remove unwanted strings \n",
        "\n",
        "# def clean_currency(x):\n",
        "#     \"\"\" If the value is a string, then remove currency symbol and delimiters\n",
        "#     otherwise, the value is numeric and can be converted\n",
        "#     \"\"\"\n",
        "#     if isinstance(x, str):\n",
        "#         return(x.replace('$', '').replace(',', ''))\n",
        "#     return(x)\n",
        "\n",
        "# emp['Salary'] = emp['Salary'].apply(clean_currency).astype(float)\n"
      ],
      "execution_count": 54,
      "outputs": []
    },
    {
      "cell_type": "code",
      "metadata": {
        "id": "VC0rmNGv0moW"
      },
      "source": [
        "# Using regex\n",
        "\n",
        "# emp['Salary'] = emp['Salary'].replace({'\\$': '', ',': ''}, regex=True).astype(float)\n"
      ],
      "execution_count": 55,
      "outputs": []
    },
    {
      "cell_type": "markdown",
      "metadata": {
        "id": "wUKD6-C30yYM"
      },
      "source": [
        "##Let's now understand missing values\n"
      ]
    },
    {
      "cell_type": "code",
      "metadata": {
        "colab": {
          "base_uri": "https://localhost:8080/",
          "height": 399
        },
        "id": "4w7-XWGf0qv4",
        "outputId": "1cc881d4-40ec-4762-eb44-30da28f0da1b"
      },
      "source": [
        " # All rows with missing values in any column\n",
        "emp[emp.isna().any(axis=1)]"
      ],
      "execution_count": 56,
      "outputs": [
        {
          "output_type": "execute_result",
          "data": {
            "text/html": [
              "<div>\n",
              "<style scoped>\n",
              "    .dataframe tbody tr th:only-of-type {\n",
              "        vertical-align: middle;\n",
              "    }\n",
              "\n",
              "    .dataframe tbody tr th {\n",
              "        vertical-align: top;\n",
              "    }\n",
              "\n",
              "    .dataframe thead th {\n",
              "        text-align: right;\n",
              "    }\n",
              "</style>\n",
              "<table border=\"1\" class=\"dataframe\">\n",
              "  <thead>\n",
              "    <tr style=\"text-align: right;\">\n",
              "      <th></th>\n",
              "      <th>Name</th>\n",
              "      <th>Gender</th>\n",
              "      <th>Department</th>\n",
              "      <th>Salary</th>\n",
              "      <th>Loc</th>\n",
              "      <th>Rating</th>\n",
              "    </tr>\n",
              "  </thead>\n",
              "  <tbody>\n",
              "    <tr>\n",
              "      <th>2</th>\n",
              "      <td>Sidoney Yitzhok</td>\n",
              "      <td>Female</td>\n",
              "      <td>NaN</td>\n",
              "      <td>118440.0</td>\n",
              "      <td>Wellington</td>\n",
              "      <td>Not Rated</td>\n",
              "    </tr>\n",
              "    <tr>\n",
              "      <th>3</th>\n",
              "      <td>Saunders Blumson</td>\n",
              "      <td>NaN</td>\n",
              "      <td>Legal</td>\n",
              "      <td>56370.0</td>\n",
              "      <td>Los Angeles</td>\n",
              "      <td>Very Good</td>\n",
              "    </tr>\n",
              "    <tr>\n",
              "      <th>8</th>\n",
              "      <td>Rayna Gamlin</td>\n",
              "      <td>NaN</td>\n",
              "      <td>Services</td>\n",
              "      <td>NaN</td>\n",
              "      <td>Wellington</td>\n",
              "      <td>Average</td>\n",
              "    </tr>\n",
              "    <tr>\n",
              "      <th>30</th>\n",
              "      <td>Mollie Hanway</td>\n",
              "      <td>Male</td>\n",
              "      <td>NaN</td>\n",
              "      <td>112650.0</td>\n",
              "      <td>Bellevue</td>\n",
              "      <td>Average</td>\n",
              "    </tr>\n",
              "    <tr>\n",
              "      <th>45</th>\n",
              "      <td>Fancy Bonin</td>\n",
              "      <td>NaN</td>\n",
              "      <td>Training</td>\n",
              "      <td>84680.0</td>\n",
              "      <td>Bellevue</td>\n",
              "      <td>Good</td>\n",
              "    </tr>\n",
              "    <tr>\n",
              "      <th>...</th>\n",
              "      <td>...</td>\n",
              "      <td>...</td>\n",
              "      <td>...</td>\n",
              "      <td>...</td>\n",
              "      <td>...</td>\n",
              "      <td>...</td>\n",
              "    </tr>\n",
              "    <tr>\n",
              "      <th>974</th>\n",
              "      <td>Jerrilee Maginot</td>\n",
              "      <td>Male</td>\n",
              "      <td>Business Development</td>\n",
              "      <td>NaN</td>\n",
              "      <td>Los Angeles</td>\n",
              "      <td>Average</td>\n",
              "    </tr>\n",
              "    <tr>\n",
              "      <th>980</th>\n",
              "      <td>Jolynn Edkins</td>\n",
              "      <td>Female</td>\n",
              "      <td>Support</td>\n",
              "      <td>NaN</td>\n",
              "      <td>Los Angeles</td>\n",
              "      <td>Average</td>\n",
              "    </tr>\n",
              "    <tr>\n",
              "      <th>989</th>\n",
              "      <td>Frasquito Mosley</td>\n",
              "      <td>NaN</td>\n",
              "      <td>Support</td>\n",
              "      <td>48090.0</td>\n",
              "      <td>Wellington</td>\n",
              "      <td>Not Rated</td>\n",
              "    </tr>\n",
              "    <tr>\n",
              "      <th>992</th>\n",
              "      <td>Fairfax Wallsam</td>\n",
              "      <td>NaN</td>\n",
              "      <td>Sales</td>\n",
              "      <td>88590.0</td>\n",
              "      <td>Wellington</td>\n",
              "      <td>Average</td>\n",
              "    </tr>\n",
              "    <tr>\n",
              "      <th>1005</th>\n",
              "      <td>Madge McCloughen</td>\n",
              "      <td>NaN</td>\n",
              "      <td>Training</td>\n",
              "      <td>91310.0</td>\n",
              "      <td>Los Angeles</td>\n",
              "      <td>Average</td>\n",
              "    </tr>\n",
              "  </tbody>\n",
              "</table>\n",
              "<p>109 rows × 6 columns</p>\n",
              "</div>"
            ],
            "text/plain": [
              "                  Name  Gender  ...          Loc     Rating\n",
              "2      Sidoney Yitzhok  Female  ...   Wellington  Not Rated\n",
              "3     Saunders Blumson     NaN  ...  Los Angeles  Very Good\n",
              "8         Rayna Gamlin     NaN  ...   Wellington    Average\n",
              "30       Mollie Hanway    Male  ...     Bellevue    Average\n",
              "45         Fancy Bonin     NaN  ...     Bellevue       Good\n",
              "...                ...     ...  ...          ...        ...\n",
              "974   Jerrilee Maginot    Male  ...  Los Angeles    Average\n",
              "980      Jolynn Edkins  Female  ...  Los Angeles    Average\n",
              "989   Frasquito Mosley     NaN  ...   Wellington  Not Rated\n",
              "992    Fairfax Wallsam     NaN  ...   Wellington    Average\n",
              "1005  Madge McCloughen     NaN  ...  Los Angeles    Average\n",
              "\n",
              "[109 rows x 6 columns]"
            ]
          },
          "metadata": {
            "tags": []
          },
          "execution_count": 56
        }
      ]
    },
    {
      "cell_type": "code",
      "metadata": {
        "id": "XIc5MGax04eM",
        "colab": {
          "base_uri": "https://localhost:8080/",
          "height": 106
        },
        "outputId": "a4a1d362-8486-478f-fa72-e1163bbccb62"
      },
      "source": [
        "# Rows with missing values in Salary & Department column\n",
        "emp[(emp['Salary'].isna()) & (emp['Department'].isna())]"
      ],
      "execution_count": 57,
      "outputs": [
        {
          "output_type": "execute_result",
          "data": {
            "text/html": [
              "<div>\n",
              "<style scoped>\n",
              "    .dataframe tbody tr th:only-of-type {\n",
              "        vertical-align: middle;\n",
              "    }\n",
              "\n",
              "    .dataframe tbody tr th {\n",
              "        vertical-align: top;\n",
              "    }\n",
              "\n",
              "    .dataframe thead th {\n",
              "        text-align: right;\n",
              "    }\n",
              "</style>\n",
              "<table border=\"1\" class=\"dataframe\">\n",
              "  <thead>\n",
              "    <tr style=\"text-align: right;\">\n",
              "      <th></th>\n",
              "      <th>Name</th>\n",
              "      <th>Gender</th>\n",
              "      <th>Department</th>\n",
              "      <th>Salary</th>\n",
              "      <th>Loc</th>\n",
              "      <th>Rating</th>\n",
              "    </tr>\n",
              "  </thead>\n",
              "  <tbody>\n",
              "    <tr>\n",
              "      <th>343</th>\n",
              "      <td>Dewey Berthod</td>\n",
              "      <td>Female</td>\n",
              "      <td>NaN</td>\n",
              "      <td>NaN</td>\n",
              "      <td>Bellevue</td>\n",
              "      <td>Average</td>\n",
              "    </tr>\n",
              "    <tr>\n",
              "      <th>470</th>\n",
              "      <td>Aloise MacCathay</td>\n",
              "      <td>Male</td>\n",
              "      <td>NaN</td>\n",
              "      <td>NaN</td>\n",
              "      <td>Bellevue</td>\n",
              "      <td>Average</td>\n",
              "    </tr>\n",
              "  </tbody>\n",
              "</table>\n",
              "</div>"
            ],
            "text/plain": [
              "                 Name  Gender Department  Salary       Loc   Rating\n",
              "343     Dewey Berthod  Female        NaN     NaN  Bellevue  Average\n",
              "470  Aloise MacCathay    Male        NaN     NaN  Bellevue  Average"
            ]
          },
          "metadata": {
            "tags": []
          },
          "execution_count": 57
        }
      ]
    },
    {
      "cell_type": "markdown",
      "metadata": {
        "id": "Z6xvLacB6wbP"
      },
      "source": [
        "Only two rows with missing values in both column, may be they've left\n",
        "\n",
        " - Missing Salary might be indicating employees who have left, we can remove those rows\n",
        " - Missing values in department might be indicating, they have moved to sister company, we will remove these rows too\n",
        "\n",
        "## Removing missing values from 'Salary' & 'Department' column "
      ]
    },
    {
      "cell_type": "code",
      "metadata": {
        "id": "EkSy4j6R29cD"
      },
      "source": [
        " emp.dropna(subset = ['Salary', 'Department'], inplace=True)"
      ],
      "execution_count": 58,
      "outputs": []
    },
    {
      "cell_type": "code",
      "metadata": {
        "colab": {
          "base_uri": "https://localhost:8080/"
        },
        "id": "V4UKRDi97Sny",
        "outputId": "62e4e708-81c9-4c2d-82ba-3ce1e55341b4"
      },
      "source": [
        "emp.info()"
      ],
      "execution_count": 59,
      "outputs": [
        {
          "output_type": "stream",
          "text": [
            "<class 'pandas.core.frame.DataFrame'>\n",
            "Int64Index: 946 entries, 0 to 1014\n",
            "Data columns (total 6 columns):\n",
            " #   Column      Non-Null Count  Dtype  \n",
            "---  ------      --------------  -----  \n",
            " 0   Name        946 non-null    object \n",
            " 1   Gender      906 non-null    object \n",
            " 2   Department  946 non-null    object \n",
            " 3   Salary      946 non-null    float64\n",
            " 4   Loc         946 non-null    object \n",
            " 5   Rating      946 non-null    object \n",
            "dtypes: float64(1), object(5)\n",
            "memory usage: 51.7+ KB\n"
          ],
          "name": "stdout"
        }
      ]
    },
    {
      "cell_type": "markdown",
      "metadata": {
        "id": "MmwDjub37dSK"
      },
      "source": [
        "Now, the missing values in 'Gender' column might be those who've chosen not to reveal their gender\n",
        "Or they didn't find appropriate category\n",
        "\n",
        "## Let's fill missing values in 'Gender' column by 'Not revealed' or 'Unknown' or 'Other'"
      ]
    },
    {
      "cell_type": "code",
      "metadata": {
        "id": "bs-5JBlw7KHl"
      },
      "source": [
        "emp['Gender'] = emp['Gender'].fillna('Not Revealed')"
      ],
      "execution_count": 60,
      "outputs": []
    },
    {
      "cell_type": "markdown",
      "metadata": {
        "id": "NsHzPMjV83Lv"
      },
      "source": [
        "## Let's look at descriptive statistics for 'all' columns"
      ]
    },
    {
      "cell_type": "code",
      "metadata": {
        "colab": {
          "base_uri": "https://localhost:8080/",
          "height": 0
        },
        "id": "PhUGiZFZ8yMg",
        "outputId": "eb37fb8a-29a0-4fcf-f396-541625edd407"
      },
      "source": [
        "emp.describe(include = 'all') "
      ],
      "execution_count": 61,
      "outputs": [
        {
          "output_type": "execute_result",
          "data": {
            "text/html": [
              "<div>\n",
              "<style scoped>\n",
              "    .dataframe tbody tr th:only-of-type {\n",
              "        vertical-align: middle;\n",
              "    }\n",
              "\n",
              "    .dataframe tbody tr th {\n",
              "        vertical-align: top;\n",
              "    }\n",
              "\n",
              "    .dataframe thead th {\n",
              "        text-align: right;\n",
              "    }\n",
              "</style>\n",
              "<table border=\"1\" class=\"dataframe\">\n",
              "  <thead>\n",
              "    <tr style=\"text-align: right;\">\n",
              "      <th></th>\n",
              "      <th>Name</th>\n",
              "      <th>Gender</th>\n",
              "      <th>Department</th>\n",
              "      <th>Salary</th>\n",
              "      <th>Loc</th>\n",
              "      <th>Rating</th>\n",
              "    </tr>\n",
              "  </thead>\n",
              "  <tbody>\n",
              "    <tr>\n",
              "      <th>count</th>\n",
              "      <td>946</td>\n",
              "      <td>946</td>\n",
              "      <td>946</td>\n",
              "      <td>946.000000</td>\n",
              "      <td>946</td>\n",
              "      <td>946</td>\n",
              "    </tr>\n",
              "    <tr>\n",
              "      <th>unique</th>\n",
              "      <td>874</td>\n",
              "      <td>3</td>\n",
              "      <td>12</td>\n",
              "      <td>NaN</td>\n",
              "      <td>3</td>\n",
              "      <td>6</td>\n",
              "    </tr>\n",
              "    <tr>\n",
              "      <th>top</th>\n",
              "      <td>Orton Livick</td>\n",
              "      <td>Male</td>\n",
              "      <td>Product Management</td>\n",
              "      <td>NaN</td>\n",
              "      <td>Los Angeles</td>\n",
              "      <td>Average</td>\n",
              "    </tr>\n",
              "    <tr>\n",
              "      <th>freq</th>\n",
              "      <td>2</td>\n",
              "      <td>465</td>\n",
              "      <td>89</td>\n",
              "      <td>NaN</td>\n",
              "      <td>361</td>\n",
              "      <td>420</td>\n",
              "    </tr>\n",
              "    <tr>\n",
              "      <th>mean</th>\n",
              "      <td>NaN</td>\n",
              "      <td>NaN</td>\n",
              "      <td>NaN</td>\n",
              "      <td>73703.668076</td>\n",
              "      <td>NaN</td>\n",
              "      <td>NaN</td>\n",
              "    </tr>\n",
              "    <tr>\n",
              "      <th>std</th>\n",
              "      <td>NaN</td>\n",
              "      <td>NaN</td>\n",
              "      <td>NaN</td>\n",
              "      <td>26594.076664</td>\n",
              "      <td>NaN</td>\n",
              "      <td>NaN</td>\n",
              "    </tr>\n",
              "    <tr>\n",
              "      <th>min</th>\n",
              "      <td>NaN</td>\n",
              "      <td>NaN</td>\n",
              "      <td>NaN</td>\n",
              "      <td>28130.000000</td>\n",
              "      <td>NaN</td>\n",
              "      <td>NaN</td>\n",
              "    </tr>\n",
              "    <tr>\n",
              "      <th>25%</th>\n",
              "      <td>NaN</td>\n",
              "      <td>NaN</td>\n",
              "      <td>NaN</td>\n",
              "      <td>50537.500000</td>\n",
              "      <td>NaN</td>\n",
              "      <td>NaN</td>\n",
              "    </tr>\n",
              "    <tr>\n",
              "      <th>50%</th>\n",
              "      <td>NaN</td>\n",
              "      <td>NaN</td>\n",
              "      <td>NaN</td>\n",
              "      <td>73300.000000</td>\n",
              "      <td>NaN</td>\n",
              "      <td>NaN</td>\n",
              "    </tr>\n",
              "    <tr>\n",
              "      <th>75%</th>\n",
              "      <td>NaN</td>\n",
              "      <td>NaN</td>\n",
              "      <td>NaN</td>\n",
              "      <td>96597.500000</td>\n",
              "      <td>NaN</td>\n",
              "      <td>NaN</td>\n",
              "    </tr>\n",
              "    <tr>\n",
              "      <th>max</th>\n",
              "      <td>NaN</td>\n",
              "      <td>NaN</td>\n",
              "      <td>NaN</td>\n",
              "      <td>119930.000000</td>\n",
              "      <td>NaN</td>\n",
              "      <td>NaN</td>\n",
              "    </tr>\n",
              "  </tbody>\n",
              "</table>\n",
              "</div>"
            ],
            "text/plain": [
              "                Name Gender  ...          Loc   Rating\n",
              "count            946    946  ...          946      946\n",
              "unique           874      3  ...            3        6\n",
              "top     Orton Livick   Male  ...  Los Angeles  Average\n",
              "freq               2    465  ...          361      420\n",
              "mean             NaN    NaN  ...          NaN      NaN\n",
              "std              NaN    NaN  ...          NaN      NaN\n",
              "min              NaN    NaN  ...          NaN      NaN\n",
              "25%              NaN    NaN  ...          NaN      NaN\n",
              "50%              NaN    NaN  ...          NaN      NaN\n",
              "75%              NaN    NaN  ...          NaN      NaN\n",
              "max              NaN    NaN  ...          NaN      NaN\n",
              "\n",
              "[11 rows x 6 columns]"
            ]
          },
          "metadata": {
            "tags": []
          },
          "execution_count": 61
        }
      ]
    },
    {
      "cell_type": "markdown",
      "metadata": {
        "id": "PnXnH2J39C0F"
      },
      "source": [
        "**Observations:**\n",
        "\n",
        "1. Name column - out of 946 entries, only 874 are unique. It indicates presence of duplicate entries like the name 'Calvin O'Carroll' occuring twice\n",
        "2. Gender Column - three categories, Male, Female & 'Not Revealed' with more (465) Males in the data set\n",
        "3. 12 categories of departments, 3 locations and 6 categories of ratings (maximum employees got ;Average' rating)\n",
        "4. Salary - mean value is 73703 and median is 73300. It indicates right skewed distribution as expected\n"
      ]
    },
    {
      "cell_type": "markdown",
      "metadata": {
        "id": "7pAXGPupB4In"
      },
      "source": [
        "## Let's explore duplicate entries in 'Name' column"
      ]
    },
    {
      "cell_type": "code",
      "metadata": {
        "colab": {
          "base_uri": "https://localhost:8080/",
          "height": 0
        },
        "id": "R3IWXktO8-WS",
        "outputId": "7336e4e7-907b-4833-a544-e74c097518b0"
      },
      "source": [
        "#let's look at those names\n",
        "# emp.duplicated('Name')\n",
        "# emp.duplicated('Name').value_counts() # 72 names are duplicated\n",
        "emp[emp.duplicated('Name') == True] # 72 names are duplicated"
      ],
      "execution_count": 62,
      "outputs": [
        {
          "output_type": "execute_result",
          "data": {
            "text/html": [
              "<div>\n",
              "<style scoped>\n",
              "    .dataframe tbody tr th:only-of-type {\n",
              "        vertical-align: middle;\n",
              "    }\n",
              "\n",
              "    .dataframe tbody tr th {\n",
              "        vertical-align: top;\n",
              "    }\n",
              "\n",
              "    .dataframe thead th {\n",
              "        text-align: right;\n",
              "    }\n",
              "</style>\n",
              "<table border=\"1\" class=\"dataframe\">\n",
              "  <thead>\n",
              "    <tr style=\"text-align: right;\">\n",
              "      <th></th>\n",
              "      <th>Name</th>\n",
              "      <th>Gender</th>\n",
              "      <th>Department</th>\n",
              "      <th>Salary</th>\n",
              "      <th>Loc</th>\n",
              "      <th>Rating</th>\n",
              "    </tr>\n",
              "  </thead>\n",
              "  <tbody>\n",
              "    <tr>\n",
              "      <th>130</th>\n",
              "      <td>Larry Pioch</td>\n",
              "      <td>Male</td>\n",
              "      <td>Research and Development</td>\n",
              "      <td>49670.0</td>\n",
              "      <td>Wellington</td>\n",
              "      <td>Good</td>\n",
              "    </tr>\n",
              "    <tr>\n",
              "      <th>145</th>\n",
              "      <td>Adella Hartshorne</td>\n",
              "      <td>Female</td>\n",
              "      <td>Human Resources</td>\n",
              "      <td>41160.0</td>\n",
              "      <td>Wellington</td>\n",
              "      <td>Good</td>\n",
              "    </tr>\n",
              "    <tr>\n",
              "      <th>155</th>\n",
              "      <td>Katya Hundy</td>\n",
              "      <td>Male</td>\n",
              "      <td>Business Development</td>\n",
              "      <td>88510.0</td>\n",
              "      <td>Los Angeles</td>\n",
              "      <td>Poor</td>\n",
              "    </tr>\n",
              "    <tr>\n",
              "      <th>168</th>\n",
              "      <td>Crawford Scad</td>\n",
              "      <td>Male</td>\n",
              "      <td>Human Resources</td>\n",
              "      <td>72880.0</td>\n",
              "      <td>Bellevue</td>\n",
              "      <td>Average</td>\n",
              "    </tr>\n",
              "    <tr>\n",
              "      <th>272</th>\n",
              "      <td>Calvin O'Carroll</td>\n",
              "      <td>Female</td>\n",
              "      <td>Research and Development</td>\n",
              "      <td>44450.0</td>\n",
              "      <td>Los Angeles</td>\n",
              "      <td>Very Poor</td>\n",
              "    </tr>\n",
              "    <tr>\n",
              "      <th>...</th>\n",
              "      <td>...</td>\n",
              "      <td>...</td>\n",
              "      <td>...</td>\n",
              "      <td>...</td>\n",
              "      <td>...</td>\n",
              "      <td>...</td>\n",
              "    </tr>\n",
              "    <tr>\n",
              "      <th>981</th>\n",
              "      <td>Beverie Moffet</td>\n",
              "      <td>Female</td>\n",
              "      <td>Support</td>\n",
              "      <td>75970.0</td>\n",
              "      <td>Los Angeles</td>\n",
              "      <td>Average</td>\n",
              "    </tr>\n",
              "    <tr>\n",
              "      <th>983</th>\n",
              "      <td>Alida Welman</td>\n",
              "      <td>Male</td>\n",
              "      <td>Human Resources</td>\n",
              "      <td>69860.0</td>\n",
              "      <td>Bellevue</td>\n",
              "      <td>Poor</td>\n",
              "    </tr>\n",
              "    <tr>\n",
              "      <th>996</th>\n",
              "      <td>Joella Maevela</td>\n",
              "      <td>Female</td>\n",
              "      <td>Sales</td>\n",
              "      <td>76210.0</td>\n",
              "      <td>Los Angeles</td>\n",
              "      <td>Good</td>\n",
              "    </tr>\n",
              "    <tr>\n",
              "      <th>1004</th>\n",
              "      <td>Curtice Advani</td>\n",
              "      <td>Male</td>\n",
              "      <td>Product Management</td>\n",
              "      <td>59810.0</td>\n",
              "      <td>Bellevue</td>\n",
              "      <td>Good</td>\n",
              "    </tr>\n",
              "    <tr>\n",
              "      <th>1008</th>\n",
              "      <td>Anni Dinse</td>\n",
              "      <td>Male</td>\n",
              "      <td>Product Management</td>\n",
              "      <td>119670.0</td>\n",
              "      <td>Bellevue</td>\n",
              "      <td>Not Rated</td>\n",
              "    </tr>\n",
              "  </tbody>\n",
              "</table>\n",
              "<p>72 rows × 6 columns</p>\n",
              "</div>"
            ],
            "text/plain": [
              "                   Name  Gender  ...          Loc     Rating\n",
              "130         Larry Pioch    Male  ...   Wellington       Good\n",
              "145   Adella Hartshorne  Female  ...   Wellington       Good\n",
              "155         Katya Hundy    Male  ...  Los Angeles       Poor\n",
              "168       Crawford Scad    Male  ...     Bellevue    Average\n",
              "272    Calvin O'Carroll  Female  ...  Los Angeles  Very Poor\n",
              "...                 ...     ...  ...          ...        ...\n",
              "981      Beverie Moffet  Female  ...  Los Angeles    Average\n",
              "983        Alida Welman    Male  ...     Bellevue       Poor\n",
              "996      Joella Maevela  Female  ...  Los Angeles       Good\n",
              "1004     Curtice Advani    Male  ...     Bellevue       Good\n",
              "1008         Anni Dinse    Male  ...     Bellevue  Not Rated\n",
              "\n",
              "[72 rows x 6 columns]"
            ]
          },
          "metadata": {
            "tags": []
          },
          "execution_count": 62
        }
      ]
    },
    {
      "cell_type": "code",
      "metadata": {
        "colab": {
          "base_uri": "https://localhost:8080/"
        },
        "id": "X9thRnvmAnWf",
        "outputId": "6de9967f-cb74-4866-e408-f067d5a7664d"
      },
      "source": [
        "#Another approach\n",
        "names = emp.Name.value_counts()\n",
        "names[names > 1]"
      ],
      "execution_count": 63,
      "outputs": [
        {
          "output_type": "execute_result",
          "data": {
            "text/plain": [
              "Orton Livick                2\n",
              "Rhiamon Mollison            2\n",
              "Murry Dryburgh              2\n",
              "Barbara-anne Kenchington    2\n",
              "Joyce Esel                  2\n",
              "                           ..\n",
              "Sheff Gerdts                2\n",
              "Joella Maevela              2\n",
              "Win Arthurs                 2\n",
              "Kissiah Maydway             2\n",
              "Gilles Jaquet               2\n",
              "Name: Name, Length: 72, dtype: int64"
            ]
          },
          "metadata": {
            "tags": []
          },
          "execution_count": 63
        }
      ]
    },
    {
      "cell_type": "code",
      "metadata": {
        "colab": {
          "base_uri": "https://localhost:8080/",
          "height": 0
        },
        "id": "AvVNXL34B1C9",
        "outputId": "da16aff4-9e32-4cd4-ab3a-709affe2886d"
      },
      "source": [
        "emp[emp.Name == 'Larry Pioch'] #same employee but rating different?\n",
        "# emp[emp.Name == 'Adella Hartshorne'] #may be different employee or data entry error\n",
        "# emp[emp.Name == \"Calvin O'Carroll\"] #may be different employee or data entry error"
      ],
      "execution_count": 64,
      "outputs": [
        {
          "output_type": "execute_result",
          "data": {
            "text/html": [
              "<div>\n",
              "<style scoped>\n",
              "    .dataframe tbody tr th:only-of-type {\n",
              "        vertical-align: middle;\n",
              "    }\n",
              "\n",
              "    .dataframe tbody tr th {\n",
              "        vertical-align: top;\n",
              "    }\n",
              "\n",
              "    .dataframe thead th {\n",
              "        text-align: right;\n",
              "    }\n",
              "</style>\n",
              "<table border=\"1\" class=\"dataframe\">\n",
              "  <thead>\n",
              "    <tr style=\"text-align: right;\">\n",
              "      <th></th>\n",
              "      <th>Name</th>\n",
              "      <th>Gender</th>\n",
              "      <th>Department</th>\n",
              "      <th>Salary</th>\n",
              "      <th>Loc</th>\n",
              "      <th>Rating</th>\n",
              "    </tr>\n",
              "  </thead>\n",
              "  <tbody>\n",
              "    <tr>\n",
              "      <th>69</th>\n",
              "      <td>Larry Pioch</td>\n",
              "      <td>Male</td>\n",
              "      <td>Research and Development</td>\n",
              "      <td>49670.0</td>\n",
              "      <td>Wellington</td>\n",
              "      <td>Poor</td>\n",
              "    </tr>\n",
              "    <tr>\n",
              "      <th>130</th>\n",
              "      <td>Larry Pioch</td>\n",
              "      <td>Male</td>\n",
              "      <td>Research and Development</td>\n",
              "      <td>49670.0</td>\n",
              "      <td>Wellington</td>\n",
              "      <td>Good</td>\n",
              "    </tr>\n",
              "  </tbody>\n",
              "</table>\n",
              "</div>"
            ],
            "text/plain": [
              "            Name Gender                Department   Salary         Loc Rating\n",
              "69   Larry Pioch   Male  Research and Development  49670.0  Wellington   Poor\n",
              "130  Larry Pioch   Male  Research and Development  49670.0  Wellington   Good"
            ]
          },
          "metadata": {
            "tags": []
          },
          "execution_count": 64
        }
      ]
    },
    {
      "cell_type": "code",
      "metadata": {
        "cellView": "form",
        "id": "w77JBEvv_5Nh"
      },
      "source": [
        "#@title\n",
        "# We can use excel to quickly watch rows with duplicated names for better understanding\n",
        "# Let's write a csv file for these rows \n",
        "# emp1 = emp[emp.duplicated('Name') == True]\n",
        "\n",
        "# emp1.to_csv('emp1.csv')\n",
        "# in excel it shows no duplicates in emp and emp1 file?"
      ],
      "execution_count": 65,
      "outputs": []
    },
    {
      "cell_type": "markdown",
      "metadata": {
        "id": "kvBBHyzNCB_z"
      },
      "source": [
        "**Observations:**\n",
        "1. 72 names are repeated twice in the data set\n",
        "2. Some entries look same and some look different\n",
        "\n",
        "May be a few of those represent different employess with the same name but mostly it looks data entry error as salaries look same \n",
        "\n",
        "**How to Handle This Issue?:** \n",
        "\n",
        "Ideally, as an analyst, you need to verify the record of these employess from employee database \n",
        "\n",
        "Usually in an organizations, each employee is given a unique employee-id which helps to identify the issues related to duplicate names\n",
        "\n",
        "Such data quality issues can have big impact on analysis\n",
        "\n",
        "Here, for the purpose of demostration, we are removing all rows with duplicated names \n",
        "\n",
        "## Let's remove all rows with duplicated names "
      ]
    },
    {
      "cell_type": "code",
      "metadata": {
        "id": "giBX2hwYGUuI"
      },
      "source": [
        "emp.drop_duplicates(subset = 'Name', inplace=True) # default keep='first'\n",
        "# Here, we are dropping all duplicates except for the first occurrence. \n",
        "# Other options are keep='last' or keep='False'\n",
        "# https://pandas.pydata.org/pandas-docs/stable/reference/api/pandas.DataFrame.drop_duplicates.html"
      ],
      "execution_count": 66,
      "outputs": []
    },
    {
      "cell_type": "code",
      "metadata": {
        "colab": {
          "base_uri": "https://localhost:8080/",
          "height": 0
        },
        "id": "J6Hpo3O2Gdcs",
        "outputId": "678c2bef-5139-4ff6-f621-2954f5deeb35"
      },
      "source": [
        "emp.describe(include='all')"
      ],
      "execution_count": 67,
      "outputs": [
        {
          "output_type": "execute_result",
          "data": {
            "text/html": [
              "<div>\n",
              "<style scoped>\n",
              "    .dataframe tbody tr th:only-of-type {\n",
              "        vertical-align: middle;\n",
              "    }\n",
              "\n",
              "    .dataframe tbody tr th {\n",
              "        vertical-align: top;\n",
              "    }\n",
              "\n",
              "    .dataframe thead th {\n",
              "        text-align: right;\n",
              "    }\n",
              "</style>\n",
              "<table border=\"1\" class=\"dataframe\">\n",
              "  <thead>\n",
              "    <tr style=\"text-align: right;\">\n",
              "      <th></th>\n",
              "      <th>Name</th>\n",
              "      <th>Gender</th>\n",
              "      <th>Department</th>\n",
              "      <th>Salary</th>\n",
              "      <th>Loc</th>\n",
              "      <th>Rating</th>\n",
              "    </tr>\n",
              "  </thead>\n",
              "  <tbody>\n",
              "    <tr>\n",
              "      <th>count</th>\n",
              "      <td>874</td>\n",
              "      <td>874</td>\n",
              "      <td>874</td>\n",
              "      <td>874.000000</td>\n",
              "      <td>874</td>\n",
              "      <td>874</td>\n",
              "    </tr>\n",
              "    <tr>\n",
              "      <th>unique</th>\n",
              "      <td>874</td>\n",
              "      <td>3</td>\n",
              "      <td>12</td>\n",
              "      <td>NaN</td>\n",
              "      <td>3</td>\n",
              "      <td>6</td>\n",
              "    </tr>\n",
              "    <tr>\n",
              "      <th>top</th>\n",
              "      <td>Blythe Clipston</td>\n",
              "      <td>Male</td>\n",
              "      <td>Product Management</td>\n",
              "      <td>NaN</td>\n",
              "      <td>Los Angeles</td>\n",
              "      <td>Average</td>\n",
              "    </tr>\n",
              "    <tr>\n",
              "      <th>freq</th>\n",
              "      <td>1</td>\n",
              "      <td>430</td>\n",
              "      <td>80</td>\n",
              "      <td>NaN</td>\n",
              "      <td>337</td>\n",
              "      <td>400</td>\n",
              "    </tr>\n",
              "    <tr>\n",
              "      <th>mean</th>\n",
              "      <td>NaN</td>\n",
              "      <td>NaN</td>\n",
              "      <td>NaN</td>\n",
              "      <td>73831.510297</td>\n",
              "      <td>NaN</td>\n",
              "      <td>NaN</td>\n",
              "    </tr>\n",
              "    <tr>\n",
              "      <th>std</th>\n",
              "      <td>NaN</td>\n",
              "      <td>NaN</td>\n",
              "      <td>NaN</td>\n",
              "      <td>26744.983091</td>\n",
              "      <td>NaN</td>\n",
              "      <td>NaN</td>\n",
              "    </tr>\n",
              "    <tr>\n",
              "      <th>min</th>\n",
              "      <td>NaN</td>\n",
              "      <td>NaN</td>\n",
              "      <td>NaN</td>\n",
              "      <td>28130.000000</td>\n",
              "      <td>NaN</td>\n",
              "      <td>NaN</td>\n",
              "    </tr>\n",
              "    <tr>\n",
              "      <th>25%</th>\n",
              "      <td>NaN</td>\n",
              "      <td>NaN</td>\n",
              "      <td>NaN</td>\n",
              "      <td>50537.500000</td>\n",
              "      <td>NaN</td>\n",
              "      <td>NaN</td>\n",
              "    </tr>\n",
              "    <tr>\n",
              "      <th>50%</th>\n",
              "      <td>NaN</td>\n",
              "      <td>NaN</td>\n",
              "      <td>NaN</td>\n",
              "      <td>74195.000000</td>\n",
              "      <td>NaN</td>\n",
              "      <td>NaN</td>\n",
              "    </tr>\n",
              "    <tr>\n",
              "      <th>75%</th>\n",
              "      <td>NaN</td>\n",
              "      <td>NaN</td>\n",
              "      <td>NaN</td>\n",
              "      <td>96780.000000</td>\n",
              "      <td>NaN</td>\n",
              "      <td>NaN</td>\n",
              "    </tr>\n",
              "    <tr>\n",
              "      <th>max</th>\n",
              "      <td>NaN</td>\n",
              "      <td>NaN</td>\n",
              "      <td>NaN</td>\n",
              "      <td>119930.000000</td>\n",
              "      <td>NaN</td>\n",
              "      <td>NaN</td>\n",
              "    </tr>\n",
              "  </tbody>\n",
              "</table>\n",
              "</div>"
            ],
            "text/plain": [
              "                   Name Gender  ...          Loc   Rating\n",
              "count               874    874  ...          874      874\n",
              "unique              874      3  ...            3        6\n",
              "top     Blythe Clipston   Male  ...  Los Angeles  Average\n",
              "freq                  1    430  ...          337      400\n",
              "mean                NaN    NaN  ...          NaN      NaN\n",
              "std                 NaN    NaN  ...          NaN      NaN\n",
              "min                 NaN    NaN  ...          NaN      NaN\n",
              "25%                 NaN    NaN  ...          NaN      NaN\n",
              "50%                 NaN    NaN  ...          NaN      NaN\n",
              "75%                 NaN    NaN  ...          NaN      NaN\n",
              "max                 NaN    NaN  ...          NaN      NaN\n",
              "\n",
              "[11 rows x 6 columns]"
            ]
          },
          "metadata": {
            "tags": []
          },
          "execution_count": 67
        }
      ]
    },
    {
      "cell_type": "markdown",
      "metadata": {
        "id": "oN_jMPydI4qh"
      },
      "source": [
        "- Now, we've 874 rows\n",
        "- 'Salary' is still right skewed as expected"
      ]
    },
    {
      "cell_type": "markdown",
      "metadata": {
        "id": "JRnOGLdkN394"
      },
      "source": [
        "# Getting Insights"
      ]
    },
    {
      "cell_type": "markdown",
      "metadata": {
        "id": "PlnHuGrDOBkH"
      },
      "source": [
        "## How many Males/Females are there in the entire organization? \n"
      ]
    },
    {
      "cell_type": "code",
      "metadata": {
        "colab": {
          "base_uri": "https://localhost:8080/"
        },
        "id": "EWhb4BH_DeDb",
        "outputId": "6e2c1467-a863-4350-9905-6b02df892f8c"
      },
      "source": [
        "emp['Gender'].value_counts()\n",
        "# emp['Gender'].value_counts().sum() #874"
      ],
      "execution_count": 68,
      "outputs": [
        {
          "output_type": "execute_result",
          "data": {
            "text/plain": [
              "Male            430\n",
              "Female          406\n",
              "Not Revealed     38\n",
              "Name: Gender, dtype: int64"
            ]
          },
          "metadata": {
            "tags": []
          },
          "execution_count": 68
        }
      ]
    },
    {
      "cell_type": "code",
      "metadata": {
        "colab": {
          "base_uri": "https://localhost:8080/"
        },
        "id": "mfzk-4IMO_Kk",
        "outputId": "fb031ddd-2dd2-49e2-d2a0-4deda264670f"
      },
      "source": [
        "Gender_perc = emp['Gender'].value_counts()/emp['Gender'].value_counts().sum()\n",
        "Gender_perc.round(2)"
      ],
      "execution_count": 69,
      "outputs": [
        {
          "output_type": "execute_result",
          "data": {
            "text/plain": [
              "Male            0.49\n",
              "Female          0.46\n",
              "Not Revealed    0.04\n",
              "Name: Gender, dtype: float64"
            ]
          },
          "metadata": {
            "tags": []
          },
          "execution_count": 69
        }
      ]
    },
    {
      "cell_type": "code",
      "metadata": {
        "colab": {
          "base_uri": "https://localhost:8080/"
        },
        "id": "8ppYLO6ZO2Hi",
        "outputId": "0eeef2e3-0f00-4d80-dbf2-fea907d6a946"
      },
      "source": [
        "emp['Gender'].describe()"
      ],
      "execution_count": 70,
      "outputs": [
        {
          "output_type": "execute_result",
          "data": {
            "text/plain": [
              "count      874\n",
              "unique       3\n",
              "top       Male\n",
              "freq       430\n",
              "Name: Gender, dtype: object"
            ]
          },
          "metadata": {
            "tags": []
          },
          "execution_count": 70
        }
      ]
    },
    {
      "cell_type": "markdown",
      "metadata": {
        "id": "Md3YzVRoPZhP"
      },
      "source": [
        "## Out of total 874 employees, 430 (49%) are males, 406 (46%) are females and Gender of 38 employees is not unknown to us  "
      ]
    },
    {
      "cell_type": "markdown",
      "metadata": {
        "id": "GdZDR51XOW2X"
      },
      "source": [
        "## How many Males/Females are there in the each department or for each location? "
      ]
    },
    {
      "cell_type": "code",
      "metadata": {
        "colab": {
          "base_uri": "https://localhost:8080/",
          "height": 0
        },
        "id": "KqyuDAcqP-L3",
        "outputId": "e033350f-c2ec-4f69-9e88-c8ff884f49c3"
      },
      "source": [
        "# Male/Female in each department\n",
        "pd.crosstab(emp['Gender'], emp['Department'])"
      ],
      "execution_count": 71,
      "outputs": [
        {
          "output_type": "execute_result",
          "data": {
            "text/html": [
              "<div>\n",
              "<style scoped>\n",
              "    .dataframe tbody tr th:only-of-type {\n",
              "        vertical-align: middle;\n",
              "    }\n",
              "\n",
              "    .dataframe tbody tr th {\n",
              "        vertical-align: top;\n",
              "    }\n",
              "\n",
              "    .dataframe thead th {\n",
              "        text-align: right;\n",
              "    }\n",
              "</style>\n",
              "<table border=\"1\" class=\"dataframe\">\n",
              "  <thead>\n",
              "    <tr style=\"text-align: right;\">\n",
              "      <th>Department</th>\n",
              "      <th>Accounting</th>\n",
              "      <th>Business Development</th>\n",
              "      <th>Engineering</th>\n",
              "      <th>Human Resources</th>\n",
              "      <th>Legal</th>\n",
              "      <th>Marketing</th>\n",
              "      <th>Product Management</th>\n",
              "      <th>Research and Development</th>\n",
              "      <th>Sales</th>\n",
              "      <th>Services</th>\n",
              "      <th>Support</th>\n",
              "      <th>Training</th>\n",
              "    </tr>\n",
              "    <tr>\n",
              "      <th>Gender</th>\n",
              "      <th></th>\n",
              "      <th></th>\n",
              "      <th></th>\n",
              "      <th></th>\n",
              "      <th></th>\n",
              "      <th></th>\n",
              "      <th></th>\n",
              "      <th></th>\n",
              "      <th></th>\n",
              "      <th></th>\n",
              "      <th></th>\n",
              "      <th></th>\n",
              "    </tr>\n",
              "  </thead>\n",
              "  <tbody>\n",
              "    <tr>\n",
              "      <th>Female</th>\n",
              "      <td>27</td>\n",
              "      <td>38</td>\n",
              "      <td>35</td>\n",
              "      <td>37</td>\n",
              "      <td>32</td>\n",
              "      <td>31</td>\n",
              "      <td>39</td>\n",
              "      <td>32</td>\n",
              "      <td>32</td>\n",
              "      <td>39</td>\n",
              "      <td>30</td>\n",
              "      <td>34</td>\n",
              "    </tr>\n",
              "    <tr>\n",
              "      <th>Male</th>\n",
              "      <td>36</td>\n",
              "      <td>33</td>\n",
              "      <td>35</td>\n",
              "      <td>33</td>\n",
              "      <td>44</td>\n",
              "      <td>31</td>\n",
              "      <td>40</td>\n",
              "      <td>28</td>\n",
              "      <td>39</td>\n",
              "      <td>35</td>\n",
              "      <td>41</td>\n",
              "      <td>35</td>\n",
              "    </tr>\n",
              "    <tr>\n",
              "      <th>Not Revealed</th>\n",
              "      <td>2</td>\n",
              "      <td>3</td>\n",
              "      <td>5</td>\n",
              "      <td>3</td>\n",
              "      <td>4</td>\n",
              "      <td>1</td>\n",
              "      <td>1</td>\n",
              "      <td>5</td>\n",
              "      <td>4</td>\n",
              "      <td>3</td>\n",
              "      <td>4</td>\n",
              "      <td>3</td>\n",
              "    </tr>\n",
              "  </tbody>\n",
              "</table>\n",
              "</div>"
            ],
            "text/plain": [
              "Department    Accounting  Business Development  ...  Support  Training\n",
              "Gender                                          ...                   \n",
              "Female                27                    38  ...       30        34\n",
              "Male                  36                    33  ...       41        35\n",
              "Not Revealed           2                     3  ...        4         3\n",
              "\n",
              "[3 rows x 12 columns]"
            ]
          },
          "metadata": {
            "tags": []
          },
          "execution_count": 71
        }
      ]
    },
    {
      "cell_type": "markdown",
      "metadata": {
        "id": "69_PcCsDQfEj"
      },
      "source": [
        "## We have more females in 'Business Development', 'HR' and 'Research & Development'\n",
        "In rest all departments, we've more males than females\n",
        "\n",
        "Here, we are ignoring gender of those who've chosen not to reveal\n"
      ]
    },
    {
      "cell_type": "code",
      "metadata": {
        "colab": {
          "base_uri": "https://localhost:8080/",
          "height": 0
        },
        "id": "FxNhMNGIQR2N",
        "outputId": "4c02ae27-fc14-46c0-e9bb-8d771c3ec378"
      },
      "source": [
        "# Male/Female in each department\n",
        "pd.crosstab(emp['Gender'], emp['Loc'])"
      ],
      "execution_count": 72,
      "outputs": [
        {
          "output_type": "execute_result",
          "data": {
            "text/html": [
              "<div>\n",
              "<style scoped>\n",
              "    .dataframe tbody tr th:only-of-type {\n",
              "        vertical-align: middle;\n",
              "    }\n",
              "\n",
              "    .dataframe tbody tr th {\n",
              "        vertical-align: top;\n",
              "    }\n",
              "\n",
              "    .dataframe thead th {\n",
              "        text-align: right;\n",
              "    }\n",
              "</style>\n",
              "<table border=\"1\" class=\"dataframe\">\n",
              "  <thead>\n",
              "    <tr style=\"text-align: right;\">\n",
              "      <th>Loc</th>\n",
              "      <th>Bellevue</th>\n",
              "      <th>Los Angeles</th>\n",
              "      <th>Wellington</th>\n",
              "    </tr>\n",
              "    <tr>\n",
              "      <th>Gender</th>\n",
              "      <th></th>\n",
              "      <th></th>\n",
              "      <th></th>\n",
              "    </tr>\n",
              "  </thead>\n",
              "  <tbody>\n",
              "    <tr>\n",
              "      <th>Female</th>\n",
              "      <td>111</td>\n",
              "      <td>151</td>\n",
              "      <td>144</td>\n",
              "    </tr>\n",
              "    <tr>\n",
              "      <th>Male</th>\n",
              "      <td>114</td>\n",
              "      <td>172</td>\n",
              "      <td>144</td>\n",
              "    </tr>\n",
              "    <tr>\n",
              "      <th>Not Revealed</th>\n",
              "      <td>8</td>\n",
              "      <td>14</td>\n",
              "      <td>16</td>\n",
              "    </tr>\n",
              "  </tbody>\n",
              "</table>\n",
              "</div>"
            ],
            "text/plain": [
              "Loc           Bellevue  Los Angeles  Wellington\n",
              "Gender                                         \n",
              "Female             111          151         144\n",
              "Male               114          172         144\n",
              "Not Revealed         8           14          16"
            ]
          },
          "metadata": {
            "tags": []
          },
          "execution_count": 72
        }
      ]
    },
    {
      "cell_type": "markdown",
      "metadata": {
        "id": "C7TCjF3iQ6uV"
      },
      "source": [
        "## We've more males than females at all locations except Wellington, where we've equal number of males & females."
      ]
    },
    {
      "cell_type": "markdown",
      "metadata": {
        "id": "jLkRN0XtRUY_"
      },
      "source": [
        "## For which department is the average Pay highest? And how much is it?"
      ]
    },
    {
      "cell_type": "code",
      "metadata": {
        "colab": {
          "base_uri": "https://localhost:8080/"
        },
        "id": "mWN8PXW_RXRk",
        "outputId": "a6d44954-c881-4bac-a997-fe927d3df715"
      },
      "source": [
        "# Department-wise average salary\n",
        "emp.groupby('Department')['Salary'].mean().round(0)"
      ],
      "execution_count": 73,
      "outputs": [
        {
          "output_type": "execute_result",
          "data": {
            "text/plain": [
              "Department\n",
              "Accounting                  75896.0\n",
              "Business Development        76309.0\n",
              "Engineering                 71959.0\n",
              "Human Resources             71473.0\n",
              "Legal                       72663.0\n",
              "Marketing                   76646.0\n",
              "Product Management          72082.0\n",
              "Research and Development    69768.0\n",
              "Sales                       71751.0\n",
              "Services                    76711.0\n",
              "Support                     74823.0\n",
              "Training                    76266.0\n",
              "Name: Salary, dtype: float64"
            ]
          },
          "metadata": {
            "tags": []
          },
          "execution_count": 73
        }
      ]
    },
    {
      "cell_type": "code",
      "metadata": {
        "colab": {
          "base_uri": "https://localhost:8080/"
        },
        "id": "XAmaKyzVRg9q",
        "outputId": "f57a6a93-fa6c-4da7-c69a-bd0282ccdca2"
      },
      "source": [
        "emp.groupby('Department')['Salary'].mean().round(0).max()\n",
        "emp.groupby('Department')['Salary'].mean().round(0).min()"
      ],
      "execution_count": 74,
      "outputs": [
        {
          "output_type": "execute_result",
          "data": {
            "text/plain": [
              "69768.0"
            ]
          },
          "metadata": {
            "tags": []
          },
          "execution_count": 74
        }
      ]
    },
    {
      "cell_type": "markdown",
      "metadata": {
        "id": "ZqDkUIWBRosX"
      },
      "source": [
        "## Highest average salary is $76711 for 'Services'  department and Lowest is $ 69768 for 'Research and Development' department"
      ]
    },
    {
      "cell_type": "markdown",
      "metadata": {
        "id": "RYGLE-fKSkg_"
      },
      "source": [
        "## Which location has highest & lowest average salary?"
      ]
    },
    {
      "cell_type": "code",
      "metadata": {
        "colab": {
          "base_uri": "https://localhost:8080/"
        },
        "id": "5v9yBBW8SiW7",
        "outputId": "be869537-0ed8-469e-b14e-01e62e589aca"
      },
      "source": [
        "# Location-wise average salary\n",
        "emp.groupby('Loc')['Salary'].mean().round(0)"
      ],
      "execution_count": 75,
      "outputs": [
        {
          "output_type": "execute_result",
          "data": {
            "text/plain": [
              "Loc\n",
              "Bellevue       76100.0\n",
              "Los Angeles    73580.0\n",
              "Wellington     72372.0\n",
              "Name: Salary, dtype: float64"
            ]
          },
          "metadata": {
            "tags": []
          },
          "execution_count": 75
        }
      ]
    },
    {
      "cell_type": "markdown",
      "metadata": {
        "id": "TB3myuniSsID"
      },
      "source": [
        "## Wellington location provides lowest average salary ($72372) & Bellevue provides highest average salary ($76100)"
      ]
    },
    {
      "cell_type": "markdown",
      "metadata": {
        "id": "M8NXEckoTVEJ"
      },
      "source": [
        "## What percentage of employees received good & very good rating? What about poor & very poor rating? and average rating?"
      ]
    },
    {
      "cell_type": "code",
      "metadata": {
        "colab": {
          "base_uri": "https://localhost:8080/"
        },
        "id": "Uzypc7w8TYcg",
        "outputId": "46f3cf30-146b-44b8-e858-d5ac3b8d7d0e"
      },
      "source": [
        "emp['Rating'].value_counts()"
      ],
      "execution_count": 76,
      "outputs": [
        {
          "output_type": "execute_result",
          "data": {
            "text/plain": [
              "Average      400\n",
              "Good         163\n",
              "Poor         116\n",
              "Very Good     81\n",
              "Not Rated     61\n",
              "Very Poor     53\n",
              "Name: Rating, dtype: int64"
            ]
          },
          "metadata": {
            "tags": []
          },
          "execution_count": 76
        }
      ]
    },
    {
      "cell_type": "code",
      "metadata": {
        "colab": {
          "base_uri": "https://localhost:8080/"
        },
        "id": "EOIiRTGBTkwy",
        "outputId": "be460729-3726-45ed-eb9e-b57702b1399c"
      },
      "source": [
        "rating_perc = emp['Rating'].value_counts()/emp['Rating'].value_counts().sum()\n",
        "100*rating_perc.round(2)"
      ],
      "execution_count": 77,
      "outputs": [
        {
          "output_type": "execute_result",
          "data": {
            "text/plain": [
              "Average      46.0\n",
              "Good         19.0\n",
              "Poor         13.0\n",
              "Very Good     9.0\n",
              "Not Rated     7.0\n",
              "Very Poor     6.0\n",
              "Name: Rating, dtype: float64"
            ]
          },
          "metadata": {
            "tags": []
          },
          "execution_count": 77
        }
      ]
    },
    {
      "cell_type": "markdown",
      "metadata": {
        "id": "PU1spygGZwtu"
      },
      "source": [
        "## Compute gender pay gap across the organization. Interpret"
      ]
    },
    {
      "cell_type": "code",
      "metadata": {
        "colab": {
          "base_uri": "https://localhost:8080/"
        },
        "id": "mTrv6imxOWQB",
        "outputId": "6d95b555-ad58-4b8b-b7cf-6feac90cbbda"
      },
      "source": [
        "# Gender-wise average salary\n",
        "emp.groupby('Gender')['Salary'].mean().round(0)"
      ],
      "execution_count": 78,
      "outputs": [
        {
          "output_type": "execute_result",
          "data": {
            "text/plain": [
              "Gender\n",
              "Female          72610.0\n",
              "Male            74507.0\n",
              "Not Revealed    79245.0\n",
              "Name: Salary, dtype: float64"
            ]
          },
          "metadata": {
            "tags": []
          },
          "execution_count": 78
        }
      ]
    },
    {
      "cell_type": "code",
      "metadata": {
        "colab": {
          "base_uri": "https://localhost:8080/"
        },
        "id": "maAe5Jjln5mK",
        "outputId": "6b17b230-be31-4b7f-e0dd-4a8f79400345"
      },
      "source": [
        "pay_m = emp[emp['Gender'] == 'Male']['Salary'].mean()\n",
        "print(\"Average pay for males across the organization: \", round(pay_m, 0), '\\n')\n",
        "\n",
        "pay_f = emp[emp['Gender'] == 'Female']['Salary'].mean()\n",
        "print(\"Average pay for females across the organization: \", round(pay_f, 0))"
      ],
      "execution_count": 79,
      "outputs": [
        {
          "output_type": "stream",
          "text": [
            "Average pay for males across the organization:  74507.0 \n",
            "\n",
            "Average pay for females across the organization:  72610.0\n"
          ],
          "name": "stdout"
        }
      ]
    },
    {
      "cell_type": "markdown",
      "metadata": {
        "id": "CvgAKLCso0ds"
      },
      "source": [
        "Data suggests that on an average females get less salary than males.\n",
        "\n",
        "## Let's compute gender pay gap across organization"
      ]
    },
    {
      "cell_type": "code",
      "metadata": {
        "colab": {
          "base_uri": "https://localhost:8080/"
        },
        "id": "KW7_OuMUpCHu",
        "outputId": "9a295f28-e4cc-4fb2-e732-bc51acb12bb9"
      },
      "source": [
        "pay_gap = (pay_m/pay_f - 1)*100 \n",
        "pay_gap "
      ],
      "execution_count": 80,
      "outputs": [
        {
          "output_type": "execute_result",
          "data": {
            "text/plain": [
              "2.6124554508039743"
            ]
          },
          "metadata": {
            "tags": []
          },
          "execution_count": 80
        }
      ]
    },
    {
      "cell_type": "markdown",
      "metadata": {
        "id": "gOxzfn3xqWf4"
      },
      "source": [
        "**Interpretation:**\n",
        "\n",
        "- positive value indicate females are underpaid\n",
        "\n",
        "if this value is negative, it would indicate that males are underpaid"
      ]
    },
    {
      "cell_type": "markdown",
      "metadata": {
        "id": "GF7YAbjWqUjb"
      },
      "source": [
        "## Compute gender pay gap for each department. Interpret"
      ]
    },
    {
      "cell_type": "code",
      "metadata": {
        "colab": {
          "base_uri": "https://localhost:8080/"
        },
        "id": "m871q0H8dly5",
        "outputId": "725a1ba5-5013-4cd1-b204-8d4a4f2eea08"
      },
      "source": [
        "# Just exploring department-wise average salary\n",
        "emp.groupby('Department')['Salary'].mean().round(0)"
      ],
      "execution_count": 81,
      "outputs": [
        {
          "output_type": "execute_result",
          "data": {
            "text/plain": [
              "Department\n",
              "Accounting                  75896.0\n",
              "Business Development        76309.0\n",
              "Engineering                 71959.0\n",
              "Human Resources             71473.0\n",
              "Legal                       72663.0\n",
              "Marketing                   76646.0\n",
              "Product Management          72082.0\n",
              "Research and Development    69768.0\n",
              "Sales                       71751.0\n",
              "Services                    76711.0\n",
              "Support                     74823.0\n",
              "Training                    76266.0\n",
              "Name: Salary, dtype: float64"
            ]
          },
          "metadata": {
            "tags": []
          },
          "execution_count": 81
        }
      ]
    },
    {
      "cell_type": "code",
      "metadata": {
        "colab": {
          "base_uri": "https://localhost:8080/"
        },
        "id": "Jt6C87pgblay",
        "outputId": "71f7fcb4-3d34-4b6a-9ee8-29b52458f4aa"
      },
      "source": [
        "# Minimum average salary for which department?\n",
        "emp.groupby('Department')['Salary'].mean().round(0).min()\n",
        "# for research & development"
      ],
      "execution_count": 82,
      "outputs": [
        {
          "output_type": "execute_result",
          "data": {
            "text/plain": [
              "69768.0"
            ]
          },
          "metadata": {
            "tags": []
          },
          "execution_count": 82
        }
      ]
    },
    {
      "cell_type": "code",
      "metadata": {
        "colab": {
          "base_uri": "https://localhost:8080/"
        },
        "id": "AuvkeW_pb_cC",
        "outputId": "b540b8b2-1d2f-4434-d356-45d32e6321b3"
      },
      "source": [
        "# Maximum average salary for which department?\n",
        "emp.groupby('Department')['Salary'].mean().round(0).max()  \n",
        "# for business development"
      ],
      "execution_count": 83,
      "outputs": [
        {
          "output_type": "execute_result",
          "data": {
            "text/plain": [
              "76711.0"
            ]
          },
          "metadata": {
            "tags": []
          },
          "execution_count": 83
        }
      ]
    },
    {
      "cell_type": "code",
      "metadata": {
        "colab": {
          "base_uri": "https://localhost:8080/"
        },
        "id": "vyssqyOerdNB",
        "outputId": "64007b96-d8a6-4452-c921-13fa28a44275"
      },
      "source": [
        "# Department-wise average salary for females & males\n",
        "emp.groupby(['Department', 'Gender'])['Salary'].mean().round(0)  \n",
        "\n",
        "# emp.groupby(['Gender', 'Department'])['Salary'].mean().round(0)  "
      ],
      "execution_count": 84,
      "outputs": [
        {
          "output_type": "execute_result",
          "data": {
            "text/plain": [
              "Department                Gender      \n",
              "Accounting                Female           72814.0\n",
              "                          Male             76726.0\n",
              "                          Not Revealed    102560.0\n",
              "Business Development      Female           74667.0\n",
              "                          Male             80596.0\n",
              "                          Not Revealed     49957.0\n",
              "Engineering               Female           74868.0\n",
              "                          Male             68097.0\n",
              "                          Not Revealed     78626.0\n",
              "Human Resources           Female           67062.0\n",
              "                          Male             74345.0\n",
              "                          Not Revealed     94283.0\n",
              "Legal                     Female           69904.0\n",
              "                          Male             73832.0\n",
              "                          Not Revealed     81875.0\n",
              "Marketing                 Female           79108.0\n",
              "                          Male             73242.0\n",
              "                          Not Revealed    105870.0\n",
              "Product Management        Female           71558.0\n",
              "                          Male             73484.0\n",
              "                          Not Revealed     36480.0\n",
              "Research and Development  Female           67888.0\n",
              "                          Male             70338.0\n",
              "                          Not Revealed     78614.0\n",
              "Sales                     Female           70144.0\n",
              "                          Male             71287.0\n",
              "                          Not Revealed     89125.0\n",
              "Services                  Female           74161.0\n",
              "                          Male             80379.0\n",
              "                          Not Revealed     67067.0\n",
              "Support                   Female           71586.0\n",
              "                          Male             77054.0\n",
              "                          Not Revealed     76225.0\n",
              "Training                  Female           77579.0\n",
              "                          Male             74247.0\n",
              "                          Not Revealed     84943.0\n",
              "Name: Salary, dtype: float64"
            ]
          },
          "metadata": {
            "tags": []
          },
          "execution_count": 84
        }
      ]
    },
    {
      "cell_type": "markdown",
      "metadata": {
        "id": "KUuHmoYTsOkd"
      },
      "source": [
        "We can not make quick conclusions looking at the table directly \n",
        "\n",
        "## Let's compute average salary for males & females in each department"
      ]
    },
    {
      "cell_type": "code",
      "metadata": {
        "colab": {
          "base_uri": "https://localhost:8080/"
        },
        "id": "kkhnAXHlszmF",
        "outputId": "d01d5c20-85be-459b-c63b-2f9526ea54d2"
      },
      "source": [
        "#Creating separate data sets of Males & Females\n",
        "males = emp[emp['Gender'] == 'Male']\n",
        "print(males.shape) # 430 rows as expected\n",
        "\n",
        "females = emp[emp['Gender'] == 'Female']\n",
        "females.shape # 430 rows as expected"
      ],
      "execution_count": 85,
      "outputs": [
        {
          "output_type": "stream",
          "text": [
            "(430, 6)\n"
          ],
          "name": "stdout"
        },
        {
          "output_type": "execute_result",
          "data": {
            "text/plain": [
              "(406, 6)"
            ]
          },
          "metadata": {
            "tags": []
          },
          "execution_count": 85
        }
      ]
    },
    {
      "cell_type": "code",
      "metadata": {
        "colab": {
          "base_uri": "https://localhost:8080/"
        },
        "id": "zh_oTqONs3mq",
        "outputId": "bc5a8178-05e0-4bc2-f356-7ff234272cbf"
      },
      "source": [
        "# Male's average pay for each department\n",
        "\n",
        "pay_m_dept = males.groupby('Department')['Salary'].mean().round(0)\n",
        "pay_m_dept "
      ],
      "execution_count": 86,
      "outputs": [
        {
          "output_type": "execute_result",
          "data": {
            "text/plain": [
              "Department\n",
              "Accounting                  76726.0\n",
              "Business Development        80596.0\n",
              "Engineering                 68097.0\n",
              "Human Resources             74345.0\n",
              "Legal                       73832.0\n",
              "Marketing                   73242.0\n",
              "Product Management          73484.0\n",
              "Research and Development    70338.0\n",
              "Sales                       71287.0\n",
              "Services                    80379.0\n",
              "Support                     77054.0\n",
              "Training                    74247.0\n",
              "Name: Salary, dtype: float64"
            ]
          },
          "metadata": {
            "tags": []
          },
          "execution_count": 86
        }
      ]
    },
    {
      "cell_type": "code",
      "metadata": {
        "colab": {
          "base_uri": "https://localhost:8080/"
        },
        "id": "Q1S4FnT4tQbh",
        "outputId": "d831208a-f609-4a3a-b8bf-a41edf1f7e37"
      },
      "source": [
        "# Female's average pay for each department\n",
        "\n",
        "pay_f_dept = females.groupby('Department')['Salary'].mean().round(0)\n",
        "pay_f_dept "
      ],
      "execution_count": 87,
      "outputs": [
        {
          "output_type": "execute_result",
          "data": {
            "text/plain": [
              "Department\n",
              "Accounting                  72814.0\n",
              "Business Development        74667.0\n",
              "Engineering                 74868.0\n",
              "Human Resources             67062.0\n",
              "Legal                       69904.0\n",
              "Marketing                   79108.0\n",
              "Product Management          71558.0\n",
              "Research and Development    67888.0\n",
              "Sales                       70144.0\n",
              "Services                    74161.0\n",
              "Support                     71586.0\n",
              "Training                    77579.0\n",
              "Name: Salary, dtype: float64"
            ]
          },
          "metadata": {
            "tags": []
          },
          "execution_count": 87
        }
      ]
    },
    {
      "cell_type": "code",
      "metadata": {
        "colab": {
          "base_uri": "https://localhost:8080/"
        },
        "id": "dWkw5BFwtcvr",
        "outputId": "18947997-8bba-4969-af77-9f22d447a8ef"
      },
      "source": [
        "# Department-wise gender pay gap\n",
        "pay_gap_dept = ((pay_m_dept/pay_f_dept) - 1)*100\n",
        "round(pay_gap_dept, 0)"
      ],
      "execution_count": 89,
      "outputs": [
        {
          "output_type": "execute_result",
          "data": {
            "text/plain": [
              "Department\n",
              "Accounting                   5.0\n",
              "Business Development         8.0\n",
              "Engineering                 -9.0\n",
              "Human Resources             11.0\n",
              "Legal                        6.0\n",
              "Marketing                   -7.0\n",
              "Product Management           3.0\n",
              "Research and Development     4.0\n",
              "Sales                        2.0\n",
              "Services                     8.0\n",
              "Support                      8.0\n",
              "Training                    -4.0\n",
              "Name: Salary, dtype: float64"
            ]
          },
          "metadata": {
            "tags": []
          },
          "execution_count": 89
        }
      ]
    },
    {
      "cell_type": "markdown",
      "metadata": {
        "id": "rUksC7jf_7G_"
      },
      "source": [
        "## Using a function to identify positive or negative wage gap\n",
        "\n",
        "read more about data frame styling: https://pandas.pydata.org/pandas-docs/stable/user_guide/style.html"
      ]
    },
    {
      "cell_type": "code",
      "metadata": {
        "id": "lokWGOWO-2Pz"
      },
      "source": [
        "def positive_negative(val):\n",
        "    \"\"\"\n",
        "    Takes a scalar and returns a string with\n",
        "    the css property `'color: red'` for negative\n",
        "    strings, black otherwise.\n",
        "    \"\"\"\n",
        "    color = 'red' if val < 0 else 'green'\n",
        "    return 'color: %s' % color"
      ],
      "execution_count": 95,
      "outputs": []
    },
    {
      "cell_type": "code",
      "metadata": {
        "colab": {
          "base_uri": "https://localhost:8080/",
          "height": 305
        },
        "id": "b7vYSzjj-33Z",
        "outputId": "14369167-29bd-48ad-faa9-f3993ac4391c"
      },
      "source": [
        "gap_dept = pd.DataFrame(pay_gap_dept)\n",
        "gap_dept.style.applymap(positive_negative)"
      ],
      "execution_count": 96,
      "outputs": [
        {
          "output_type": "execute_result",
          "data": {
            "text/html": [
              "<style  type=\"text/css\" >\n",
              "#T_365a512a_8a4a_11eb_a89f_0242ac1c0002row0_col0,#T_365a512a_8a4a_11eb_a89f_0242ac1c0002row1_col0,#T_365a512a_8a4a_11eb_a89f_0242ac1c0002row3_col0,#T_365a512a_8a4a_11eb_a89f_0242ac1c0002row4_col0,#T_365a512a_8a4a_11eb_a89f_0242ac1c0002row6_col0,#T_365a512a_8a4a_11eb_a89f_0242ac1c0002row7_col0,#T_365a512a_8a4a_11eb_a89f_0242ac1c0002row8_col0,#T_365a512a_8a4a_11eb_a89f_0242ac1c0002row9_col0,#T_365a512a_8a4a_11eb_a89f_0242ac1c0002row10_col0{\n",
              "            color:  green;\n",
              "        }#T_365a512a_8a4a_11eb_a89f_0242ac1c0002row2_col0,#T_365a512a_8a4a_11eb_a89f_0242ac1c0002row5_col0,#T_365a512a_8a4a_11eb_a89f_0242ac1c0002row11_col0{\n",
              "            color:  red;\n",
              "        }</style><table id=\"T_365a512a_8a4a_11eb_a89f_0242ac1c0002\" ><thead>    <tr>        <th class=\"blank level0\" ></th>        <th class=\"col_heading level0 col0\" >Salary</th>    </tr>    <tr>        <th class=\"index_name level0\" >Department</th>        <th class=\"blank\" ></th>    </tr></thead><tbody>\n",
              "                <tr>\n",
              "                        <th id=\"T_365a512a_8a4a_11eb_a89f_0242ac1c0002level0_row0\" class=\"row_heading level0 row0\" >Accounting</th>\n",
              "                        <td id=\"T_365a512a_8a4a_11eb_a89f_0242ac1c0002row0_col0\" class=\"data row0 col0\" >5.372593</td>\n",
              "            </tr>\n",
              "            <tr>\n",
              "                        <th id=\"T_365a512a_8a4a_11eb_a89f_0242ac1c0002level0_row1\" class=\"row_heading level0 row1\" >Business Development</th>\n",
              "                        <td id=\"T_365a512a_8a4a_11eb_a89f_0242ac1c0002row1_col0\" class=\"data row1 col0\" >7.940590</td>\n",
              "            </tr>\n",
              "            <tr>\n",
              "                        <th id=\"T_365a512a_8a4a_11eb_a89f_0242ac1c0002level0_row2\" class=\"row_heading level0 row2\" >Engineering</th>\n",
              "                        <td id=\"T_365a512a_8a4a_11eb_a89f_0242ac1c0002row2_col0\" class=\"data row2 col0\" >-9.043917</td>\n",
              "            </tr>\n",
              "            <tr>\n",
              "                        <th id=\"T_365a512a_8a4a_11eb_a89f_0242ac1c0002level0_row3\" class=\"row_heading level0 row3\" >Human Resources</th>\n",
              "                        <td id=\"T_365a512a_8a4a_11eb_a89f_0242ac1c0002row3_col0\" class=\"data row3 col0\" >10.860100</td>\n",
              "            </tr>\n",
              "            <tr>\n",
              "                        <th id=\"T_365a512a_8a4a_11eb_a89f_0242ac1c0002level0_row4\" class=\"row_heading level0 row4\" >Legal</th>\n",
              "                        <td id=\"T_365a512a_8a4a_11eb_a89f_0242ac1c0002row4_col0\" class=\"data row4 col0\" >5.619135</td>\n",
              "            </tr>\n",
              "            <tr>\n",
              "                        <th id=\"T_365a512a_8a4a_11eb_a89f_0242ac1c0002level0_row5\" class=\"row_heading level0 row5\" >Marketing</th>\n",
              "                        <td id=\"T_365a512a_8a4a_11eb_a89f_0242ac1c0002row5_col0\" class=\"data row5 col0\" >-7.415179</td>\n",
              "            </tr>\n",
              "            <tr>\n",
              "                        <th id=\"T_365a512a_8a4a_11eb_a89f_0242ac1c0002level0_row6\" class=\"row_heading level0 row6\" >Product Management</th>\n",
              "                        <td id=\"T_365a512a_8a4a_11eb_a89f_0242ac1c0002row6_col0\" class=\"data row6 col0\" >2.691523</td>\n",
              "            </tr>\n",
              "            <tr>\n",
              "                        <th id=\"T_365a512a_8a4a_11eb_a89f_0242ac1c0002level0_row7\" class=\"row_heading level0 row7\" >Research and Development</th>\n",
              "                        <td id=\"T_365a512a_8a4a_11eb_a89f_0242ac1c0002row7_col0\" class=\"data row7 col0\" >3.608885</td>\n",
              "            </tr>\n",
              "            <tr>\n",
              "                        <th id=\"T_365a512a_8a4a_11eb_a89f_0242ac1c0002level0_row8\" class=\"row_heading level0 row8\" >Sales</th>\n",
              "                        <td id=\"T_365a512a_8a4a_11eb_a89f_0242ac1c0002row8_col0\" class=\"data row8 col0\" >1.629505</td>\n",
              "            </tr>\n",
              "            <tr>\n",
              "                        <th id=\"T_365a512a_8a4a_11eb_a89f_0242ac1c0002level0_row9\" class=\"row_heading level0 row9\" >Services</th>\n",
              "                        <td id=\"T_365a512a_8a4a_11eb_a89f_0242ac1c0002row9_col0\" class=\"data row9 col0\" >8.384461</td>\n",
              "            </tr>\n",
              "            <tr>\n",
              "                        <th id=\"T_365a512a_8a4a_11eb_a89f_0242ac1c0002level0_row10\" class=\"row_heading level0 row10\" >Support</th>\n",
              "                        <td id=\"T_365a512a_8a4a_11eb_a89f_0242ac1c0002row10_col0\" class=\"data row10 col0\" >7.638365</td>\n",
              "            </tr>\n",
              "            <tr>\n",
              "                        <th id=\"T_365a512a_8a4a_11eb_a89f_0242ac1c0002level0_row11\" class=\"row_heading level0 row11\" >Training</th>\n",
              "                        <td id=\"T_365a512a_8a4a_11eb_a89f_0242ac1c0002row11_col0\" class=\"data row11 col0\" >-4.294977</td>\n",
              "            </tr>\n",
              "    </tbody></table>"
            ],
            "text/plain": [
              "<pandas.io.formats.style.Styler at 0x7f1e739412d0>"
            ]
          },
          "metadata": {
            "tags": []
          },
          "execution_count": 96
        }
      ]
    },
    {
      "cell_type": "markdown",
      "metadata": {
        "id": "q6Sv26x1Akdk"
      },
      "source": [
        "**Observations:**\n",
        "- In departments like Engineering, Marketing & Training, female's average pay is higher than that of males. \n",
        "- For rest of the departments, Male's get more than females.\n",
        "\n",
        "We should also explore distribution of salaries, experience or other factors for better understanding"
      ]
    },
    {
      "cell_type": "markdown",
      "metadata": {
        "id": "XK4YqZtK_1Fz"
      },
      "source": [
        "## Using a function to highlight maximum value"
      ]
    },
    {
      "cell_type": "code",
      "metadata": {
        "id": "ZJcDqPIR_uIe"
      },
      "source": [
        "def highlight_max(s):\n",
        "    '''\n",
        "    highlight the maximum in a Series yellow.\n",
        "    '''\n",
        "    is_max = s == s.max()\n",
        "    return ['background-color: blue' if v else '' for v in is_max]"
      ],
      "execution_count": 99,
      "outputs": []
    },
    {
      "cell_type": "code",
      "metadata": {
        "colab": {
          "base_uri": "https://localhost:8080/",
          "height": 305
        },
        "id": "OVUWFAhEAKCF",
        "outputId": "872f8184-fecb-4ef8-887a-b50239a9a43f"
      },
      "source": [
        "gap_dept.style.apply(highlight_max)"
      ],
      "execution_count": 100,
      "outputs": [
        {
          "output_type": "execute_result",
          "data": {
            "text/html": [
              "<style  type=\"text/css\" >\n",
              "#T_b158a2d0_8a4c_11eb_a89f_0242ac1c0002row3_col0{\n",
              "            background-color:  blue;\n",
              "        }</style><table id=\"T_b158a2d0_8a4c_11eb_a89f_0242ac1c0002\" ><thead>    <tr>        <th class=\"blank level0\" ></th>        <th class=\"col_heading level0 col0\" >Salary</th>    </tr>    <tr>        <th class=\"index_name level0\" >Department</th>        <th class=\"blank\" ></th>    </tr></thead><tbody>\n",
              "                <tr>\n",
              "                        <th id=\"T_b158a2d0_8a4c_11eb_a89f_0242ac1c0002level0_row0\" class=\"row_heading level0 row0\" >Accounting</th>\n",
              "                        <td id=\"T_b158a2d0_8a4c_11eb_a89f_0242ac1c0002row0_col0\" class=\"data row0 col0\" >5.372593</td>\n",
              "            </tr>\n",
              "            <tr>\n",
              "                        <th id=\"T_b158a2d0_8a4c_11eb_a89f_0242ac1c0002level0_row1\" class=\"row_heading level0 row1\" >Business Development</th>\n",
              "                        <td id=\"T_b158a2d0_8a4c_11eb_a89f_0242ac1c0002row1_col0\" class=\"data row1 col0\" >7.940590</td>\n",
              "            </tr>\n",
              "            <tr>\n",
              "                        <th id=\"T_b158a2d0_8a4c_11eb_a89f_0242ac1c0002level0_row2\" class=\"row_heading level0 row2\" >Engineering</th>\n",
              "                        <td id=\"T_b158a2d0_8a4c_11eb_a89f_0242ac1c0002row2_col0\" class=\"data row2 col0\" >-9.043917</td>\n",
              "            </tr>\n",
              "            <tr>\n",
              "                        <th id=\"T_b158a2d0_8a4c_11eb_a89f_0242ac1c0002level0_row3\" class=\"row_heading level0 row3\" >Human Resources</th>\n",
              "                        <td id=\"T_b158a2d0_8a4c_11eb_a89f_0242ac1c0002row3_col0\" class=\"data row3 col0\" >10.860100</td>\n",
              "            </tr>\n",
              "            <tr>\n",
              "                        <th id=\"T_b158a2d0_8a4c_11eb_a89f_0242ac1c0002level0_row4\" class=\"row_heading level0 row4\" >Legal</th>\n",
              "                        <td id=\"T_b158a2d0_8a4c_11eb_a89f_0242ac1c0002row4_col0\" class=\"data row4 col0\" >5.619135</td>\n",
              "            </tr>\n",
              "            <tr>\n",
              "                        <th id=\"T_b158a2d0_8a4c_11eb_a89f_0242ac1c0002level0_row5\" class=\"row_heading level0 row5\" >Marketing</th>\n",
              "                        <td id=\"T_b158a2d0_8a4c_11eb_a89f_0242ac1c0002row5_col0\" class=\"data row5 col0\" >-7.415179</td>\n",
              "            </tr>\n",
              "            <tr>\n",
              "                        <th id=\"T_b158a2d0_8a4c_11eb_a89f_0242ac1c0002level0_row6\" class=\"row_heading level0 row6\" >Product Management</th>\n",
              "                        <td id=\"T_b158a2d0_8a4c_11eb_a89f_0242ac1c0002row6_col0\" class=\"data row6 col0\" >2.691523</td>\n",
              "            </tr>\n",
              "            <tr>\n",
              "                        <th id=\"T_b158a2d0_8a4c_11eb_a89f_0242ac1c0002level0_row7\" class=\"row_heading level0 row7\" >Research and Development</th>\n",
              "                        <td id=\"T_b158a2d0_8a4c_11eb_a89f_0242ac1c0002row7_col0\" class=\"data row7 col0\" >3.608885</td>\n",
              "            </tr>\n",
              "            <tr>\n",
              "                        <th id=\"T_b158a2d0_8a4c_11eb_a89f_0242ac1c0002level0_row8\" class=\"row_heading level0 row8\" >Sales</th>\n",
              "                        <td id=\"T_b158a2d0_8a4c_11eb_a89f_0242ac1c0002row8_col0\" class=\"data row8 col0\" >1.629505</td>\n",
              "            </tr>\n",
              "            <tr>\n",
              "                        <th id=\"T_b158a2d0_8a4c_11eb_a89f_0242ac1c0002level0_row9\" class=\"row_heading level0 row9\" >Services</th>\n",
              "                        <td id=\"T_b158a2d0_8a4c_11eb_a89f_0242ac1c0002row9_col0\" class=\"data row9 col0\" >8.384461</td>\n",
              "            </tr>\n",
              "            <tr>\n",
              "                        <th id=\"T_b158a2d0_8a4c_11eb_a89f_0242ac1c0002level0_row10\" class=\"row_heading level0 row10\" >Support</th>\n",
              "                        <td id=\"T_b158a2d0_8a4c_11eb_a89f_0242ac1c0002row10_col0\" class=\"data row10 col0\" >7.638365</td>\n",
              "            </tr>\n",
              "            <tr>\n",
              "                        <th id=\"T_b158a2d0_8a4c_11eb_a89f_0242ac1c0002level0_row11\" class=\"row_heading level0 row11\" >Training</th>\n",
              "                        <td id=\"T_b158a2d0_8a4c_11eb_a89f_0242ac1c0002row11_col0\" class=\"data row11 col0\" >-4.294977</td>\n",
              "            </tr>\n",
              "    </tbody></table>"
            ],
            "text/plain": [
              "<pandas.io.formats.style.Styler at 0x7f1e738e8910>"
            ]
          },
          "metadata": {
            "tags": []
          },
          "execution_count": 100
        }
      ]
    },
    {
      "cell_type": "markdown",
      "metadata": {
        "id": "M8u5UhiLBr2F"
      },
      "source": [
        "Observations:\n",
        "- Highest wage gap is in HR department where Male's average pay is almost 11% (10.86) higher than that of females\n",
        "\n",
        "( 74345.0 - 67062)/74345.0 = 0.09796220324\n",
        "- Alternately, we can say that Female's average pay is almost 10% (9.796) lower than that of Males\n"
      ]
    },
    {
      "cell_type": "code",
      "metadata": {
        "id": "JA8nDJI3b957",
        "colab": {
          "base_uri": "https://localhost:8080/"
        },
        "outputId": "9829efc9-bcb5-4812-a2de-ee92a42a51da"
      },
      "source": [
        "#Location-wise average salary for females & males\n",
        "\n",
        "emp.groupby(['Loc', 'Gender'])['Salary'].mean().round(0)  "
      ],
      "execution_count": 40,
      "outputs": [
        {
          "output_type": "execute_result",
          "data": {
            "text/plain": [
              "Loc          Gender      \n",
              "Bellevue     Female          75103.0\n",
              "             Male            76315.0\n",
              "             Not Revealed    86860.0\n",
              "Los Angeles  Female          72568.0\n",
              "             Male            74056.0\n",
              "             Not Revealed    78643.0\n",
              "Wellington   Female          70732.0\n",
              "             Male            73613.0\n",
              "             Not Revealed    75965.0\n",
              "Name: Salary, dtype: float64"
            ]
          },
          "metadata": {
            "tags": []
          },
          "execution_count": 40
        }
      ]
    },
    {
      "cell_type": "code",
      "metadata": {
        "id": "91EUmuRzmwtF",
        "colab": {
          "base_uri": "https://localhost:8080/"
        },
        "outputId": "711debef-a5c1-4fa2-b2c0-96823729edc7"
      },
      "source": [
        "# Male's average pay for each Location\n",
        "\n",
        "pay_m_loc = males.groupby('Loc')['Salary'].mean().round(0)\n",
        "pay_m_loc \n"
      ],
      "execution_count": 44,
      "outputs": [
        {
          "output_type": "execute_result",
          "data": {
            "text/plain": [
              "Loc\n",
              "Bellevue       76315.0\n",
              "Los Angeles    74056.0\n",
              "Wellington     73613.0\n",
              "Name: Salary, dtype: float64"
            ]
          },
          "metadata": {
            "tags": []
          },
          "execution_count": 44
        }
      ]
    },
    {
      "cell_type": "code",
      "metadata": {
        "colab": {
          "base_uri": "https://localhost:8080/"
        },
        "id": "Kxdozew380Wg",
        "outputId": "ea62632a-d8eb-435b-f442-583838dcf2ad"
      },
      "source": [
        "# Female's average pay for each Location\n",
        "\n",
        "pay_f_loc = females.groupby('Loc')['Salary'].mean().round(0)\n",
        "pay_f_loc "
      ],
      "execution_count": 45,
      "outputs": [
        {
          "output_type": "execute_result",
          "data": {
            "text/plain": [
              "Loc\n",
              "Bellevue       75103.0\n",
              "Los Angeles    72568.0\n",
              "Wellington     70732.0\n",
              "Name: Salary, dtype: float64"
            ]
          },
          "metadata": {
            "tags": []
          },
          "execution_count": 45
        }
      ]
    },
    {
      "cell_type": "code",
      "metadata": {
        "colab": {
          "base_uri": "https://localhost:8080/"
        },
        "id": "GrH5csUD85zM",
        "outputId": "1a5b4a26-ba9f-4ae9-e639-65acc7a09f03"
      },
      "source": [
        "# Location-wise gender pay gap\n",
        "\n",
        "pay_gap_loc = ((pay_m_loc/pay_f_loc) - 1)*100\n",
        "pay_gap_loc"
      ],
      "execution_count": 46,
      "outputs": [
        {
          "output_type": "execute_result",
          "data": {
            "text/plain": [
              "Loc\n",
              "Bellevue       1.613784\n",
              "Los Angeles    2.050491\n",
              "Wellington     4.073121\n",
              "Name: Salary, dtype: float64"
            ]
          },
          "metadata": {
            "tags": []
          },
          "execution_count": 46
        }
      ]
    },
    {
      "cell_type": "markdown",
      "metadata": {
        "id": "dhpO30zR9UYC"
      },
      "source": [
        "## At all locations, males make more money than their female counterparts.\n",
        "## Highest wage gap is at Wellington location where male's average salary is 4.07 % higher than female's average salary"
      ]
    }
  ]
}